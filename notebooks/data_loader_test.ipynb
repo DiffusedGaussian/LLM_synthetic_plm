{
 "cells": [
  {
   "cell_type": "code",
   "execution_count": 5,
   "id": "60ba5063",
   "metadata": {},
   "outputs": [],
   "source": [
    "import sys\n",
    "import os\n",
    "\n",
    "# Add the parent directory to the module search path\n",
    "sys.path.append(os.path.abspath(\"..\"))\n",
    "\n",
    "from modules.data_loader import *"
   ]
  },
  {
   "cell_type": "code",
   "execution_count": 6,
   "id": "01cd1b10",
   "metadata": {},
   "outputs": [],
   "source": [
    "import json\n",
    "\n",
    "def write_dataset_to_jsonl(dataset, output_path):\n",
    "    with open(output_path, \"w\", encoding=\"utf-8\") as f:\n",
    "        for entry in dataset:\n",
    "            if isinstance(entry, dict):\n",
    "                json.dump(entry, f)\n",
    "            else:\n",
    "                json.dump({\"text\": entry}, f)  # if it's a string\n",
    "            f.write(\"\\n\")"
   ]
  },
  {
   "cell_type": "code",
   "execution_count": 3,
   "id": "5aad60f7",
   "metadata": {},
   "outputs": [],
   "source": [
    "dataset = get_dataloader(\n",
    "    \"/home/alessandro/workspace/LLM_synthetic_plm/data/metadata_gea/metadata/PRJ23012_SAP-CAD_Mapping.xlsx\")"
   ]
  },
  {
   "cell_type": "code",
   "execution_count": 4,
   "id": "66ab6313",
   "metadata": {},
   "outputs": [],
   "source": [
    "write_dataset_to_jsonl(dataset, \"bom_syntethic_dataset.jsonl\")"
   ]
  },
  {
   "cell_type": "code",
   "execution_count": 8,
   "id": "82f67203",
   "metadata": {},
   "outputs": [
    {
     "name": "stdout",
     "output_type": "stream",
     "text": [
      "Level: Level | Component: Partnumber\n",
      "(Material number to be displayed in webapp) | Object description2: Text_EN\n",
      "(Description to be displayed in webapp EN) | Object description2.1: Text_EN\n",
      "(Description to be displayed in webapp DE) | PLM part nr: CAD_ID\n",
      "(CAD designation of the components in .step file) | Assembly contains spare part: ET-Identification\n",
      "(Which components should be recognized / Which components can be ordered?) | To be omitted for proof of concept phase: To be omitted for proof of concept phase | --> Reference in SAP/CAD BOM: --> Clarification\n"
     ]
    }
   ],
   "source": [
    "for item in ExcelJSONDataset(\"/home/alessandro/workspace/LLM_synthetic_plm/data/raw/PRJ23012_SAP-CAD_Mapping.xlsx\"):\n",
    "    print(item)\n",
    "    break"
   ]
  },
  {
   "cell_type": "code",
   "execution_count": null,
   "id": "e4d4a32f",
   "metadata": {},
   "outputs": [],
   "source": []
  }
 ],
 "metadata": {
  "kernelspec": {
   "display_name": "LLM_plm",
   "language": "python",
   "name": "python3"
  },
  "language_info": {
   "codemirror_mode": {
    "name": "ipython",
    "version": 3
   },
   "file_extension": ".py",
   "mimetype": "text/x-python",
   "name": "python",
   "nbconvert_exporter": "python",
   "pygments_lexer": "ipython3",
   "version": "3.10.16"
  }
 },
 "nbformat": 4,
 "nbformat_minor": 5
}
